{
  "cells": [
    {
      "cell_type": "markdown",
      "metadata": {
        "id": "23qYiOL8ZSnu"
      },
      "source": [
        "# Proyecto\n",
        "* Karen Fuentes\n",
        "* Marco Ramirez\n",
        "* Jenifer Arce"
      ]
    },
    {
      "cell_type": "markdown",
      "metadata": {
        "id": "Qs16sBMl-SPV"
      },
      "source": [
        "# Sección 1. Entendimiento del negocio y enfoque analítico\n"
      ]
    },
    {
      "cell_type": "markdown",
      "metadata": {
        "id": "STsow314TqG1"
      },
      "source": [
        "## Generalidades\n",
        "\n",
        "|||\n",
        "|-|-|\n",
        "| **Oportunidad/problema Negocio**  |Cómo detectar noticias falsas en la política con el fin de evitar la polarización y manipulación de la opinión pública.|\n",
        "| **Objetivos** |Desarrollar un modelo de aprendizaje automático capaz de identificar noticias falsas en política con alta exactitud y precisión.|\n",
        "| **Criterios de éxito** |  Un alto desempeño en métricas de precisión, recall y F1-score, así como minimizar errores de tipo I y II.|\n",
        "|**Organización y rol beneficiados**|El gobierno nacional,la comunidad internacional, ciudadanos y organismos electorales se verán beneficiados al tener acceso a información confiable para la toma de decisiones. |"
      ]
    },
    {
      "cell_type": "markdown",
      "metadata": {
        "id": "XT3i8-lrGAts"
      },
      "source": [
        "## Impacto y enfoque analítico\n",
        "\n",
        "La implementación de un modelo de detección de noticias falsas en Colombia y en latinoamétrica tendría un impacto sobre la polarización política y manipulación de la opinión pública, así como aumentar la confianza en las instituciones del país y en general mejorar la calidad de la información disponible para los ciudadanos.\n",
        "\n",
        "De acuerdo con datos de Statista (2024) el 49% de personas en Latinoamérica leen por lo menos una noticia falsa al día. Por lo tanto, la realización del modelo serviría para distintos tipos de usuarios, que pueden ser ciudadanos que quieran verificar la veracidad de las noticias, o empresas que necesiten analizar muchas noticias día al día.\n",
        "\n",
        "La categoría del análisis a realizar es **predictiva** ya que buscamos predecir si una noticia es falsa o verdadera con base a su título y descripción. El tipo de aprendizaje es **supervisado** ya que el modelo aprende de un conjunto de datos de noticias que ya estan etiquetadas como falsas o verdaderas. La tarea de aprendizaje es de **clasificación binaria** basada en si es una noticia verdadera (1) o falsa (0). Las técnicas y algoritmos a utilizar son **preprocesamiento de datos (tokenización, lematización y vectorización)** al igual que algoritmos como **Naive Bayes, Random Forest, entre otros**."
      ]
    },
    {
      "cell_type": "markdown",
      "metadata": {
        "id": "65wS8pBidWzm"
      },
      "source": [
        "# Clonar repo para los archivos"
      ]
    },
    {
      "cell_type": "code",
      "execution_count": 98,
      "metadata": {
        "colab": {
          "base_uri": "https://localhost:8080/"
        },
        "id": "BlRGn7uZZV5d",
        "outputId": "a3d60d40-0e88-42ca-ede0-443699a3ca61"
      },
      "outputs": [],
      "source": [
        "# !git clone https://github.com/jennn-arce/proy1BI.git"
      ]
    },
    {
      "cell_type": "markdown",
      "metadata": {
        "id": "h1im4rhUdaFb"
      },
      "source": [
        "## Usar esta línea cada vez que necesiten hacer pull"
      ]
    },
    {
      "cell_type": "code",
      "execution_count": 99,
      "metadata": {
        "colab": {
          "base_uri": "https://localhost:8080/"
        },
        "id": "dh1IpwBBc79i",
        "outputId": "c6efe2aa-28c7-46d7-b98f-ccb02b9baf15"
      },
      "outputs": [],
      "source": [
        "# %cd /content/proy1BI\n",
        "# %ls\n",
        "# !git pull"
      ]
    },
    {
      "cell_type": "markdown",
      "metadata": {
        "id": "Jk0WTq0TeFdY"
      },
      "source": [
        "# 0. Carga de datos y librerías"
      ]
    },
    {
      "cell_type": "code",
      "execution_count": 100,
      "metadata": {
        "colab": {
          "base_uri": "https://localhost:8080/"
        },
        "id": "OUN-7L8WbuTB",
        "outputId": "bb4806f4-2d63-4808-bac0-282dc0b0cc62"
      },
      "outputs": [
        {
          "name": "stdout",
          "output_type": "stream",
          "text": [
            "Requirement already satisfied: contractions in ./venv/lib/python3.13/site-packages (0.1.73)\n",
            "Requirement already satisfied: nltk in ./venv/lib/python3.13/site-packages (3.9.1)\n",
            "Collecting pandas-profiling\n",
            "  Using cached pandas_profiling-3.2.0-py2.py3-none-any.whl.metadata (21 kB)\n",
            "Requirement already satisfied: joblib in ./venv/lib/python3.13/site-packages (1.4.2)\n",
            "Requirement already satisfied: num2words in ./venv/lib/python3.13/site-packages (0.5.14)\n",
            "Requirement already satisfied: textsearch>=0.0.21 in ./venv/lib/python3.13/site-packages (from contractions) (0.0.24)\n",
            "Requirement already satisfied: click in ./venv/lib/python3.13/site-packages (from nltk) (8.1.8)\n",
            "Requirement already satisfied: regex>=2021.8.3 in ./venv/lib/python3.13/site-packages (from nltk) (2024.11.6)\n",
            "Requirement already satisfied: tqdm in ./venv/lib/python3.13/site-packages (from nltk) (4.67.1)\n",
            "Collecting joblib\n",
            "  Using cached joblib-1.1.1-py2.py3-none-any.whl.metadata (5.2 kB)\n",
            "Requirement already satisfied: scipy>=1.4.1 in ./venv/lib/python3.13/site-packages (from pandas-profiling) (1.15.2)\n",
            "Requirement already satisfied: pandas!=1.0.0,!=1.0.1,!=1.0.2,!=1.1.0,>=0.25.3 in ./venv/lib/python3.13/site-packages (from pandas-profiling) (2.2.3)\n",
            "Requirement already satisfied: matplotlib>=3.2.0 in ./venv/lib/python3.13/site-packages (from pandas-profiling) (3.10.0)\n",
            "Collecting pydantic>=1.8.1 (from pandas-profiling)\n",
            "  Using cached pydantic-2.10.6-py3-none-any.whl.metadata (30 kB)\n",
            "Requirement already satisfied: PyYAML>=5.0.0 in ./venv/lib/python3.13/site-packages (from pandas-profiling) (6.0.2)\n",
            "Requirement already satisfied: jinja2>=2.11.1 in ./venv/lib/python3.13/site-packages (from pandas-profiling) (3.1.5)\n",
            "Collecting markupsafe~=2.1.1 (from pandas-profiling)\n",
            "  Using cached MarkupSafe-2.1.5.tar.gz (19 kB)\n",
            "  Installing build dependencies ... \u001b[?25ldone\n",
            "\u001b[?25h  Getting requirements to build wheel ... \u001b[?25ldone\n",
            "\u001b[?25h  Preparing metadata (pyproject.toml) ... \u001b[?25ldone\n",
            "\u001b[?25hCollecting visions==0.7.4 (from visions[type_image_path]==0.7.4->pandas-profiling)\n",
            "  Using cached visions-0.7.4-py3-none-any.whl.metadata (5.9 kB)\n",
            "Requirement already satisfied: numpy>=1.16.0 in ./venv/lib/python3.13/site-packages (from pandas-profiling) (2.2.3)\n",
            "Collecting htmlmin>=0.1.12 (from pandas-profiling)\n",
            "  Using cached htmlmin-0.1.12.tar.gz (19 kB)\n",
            "  Installing build dependencies ... \u001b[?25ldone\n",
            "\u001b[?25h  Getting requirements to build wheel ... \u001b[?25lerror\n",
            "  \u001b[1;31merror\u001b[0m: \u001b[1msubprocess-exited-with-error\u001b[0m\n",
            "  \n",
            "  \u001b[31m×\u001b[0m \u001b[32mGetting requirements to build wheel\u001b[0m did not run successfully.\n",
            "  \u001b[31m│\u001b[0m exit code: \u001b[1;36m1\u001b[0m\n",
            "  \u001b[31m╰─>\u001b[0m \u001b[31m[27 lines of output]\u001b[0m\n",
            "  \u001b[31m   \u001b[0m Traceback (most recent call last):\n",
            "  \u001b[31m   \u001b[0m   File \u001b[35m\"/Users/marcoramirez/Desktop/programming/BI/proy1BI/venv/lib/python3.13/site-packages/pip/_vendor/pyproject_hooks/_in_process/_in_process.py\"\u001b[0m, line \u001b[35m389\u001b[0m, in \u001b[35m<module>\u001b[0m\n",
            "  \u001b[31m   \u001b[0m     \u001b[31mmain\u001b[0m\u001b[1;31m()\u001b[0m\n",
            "  \u001b[31m   \u001b[0m     \u001b[31m~~~~\u001b[0m\u001b[1;31m^^\u001b[0m\n",
            "  \u001b[31m   \u001b[0m   File \u001b[35m\"/Users/marcoramirez/Desktop/programming/BI/proy1BI/venv/lib/python3.13/site-packages/pip/_vendor/pyproject_hooks/_in_process/_in_process.py\"\u001b[0m, line \u001b[35m373\u001b[0m, in \u001b[35mmain\u001b[0m\n",
            "  \u001b[31m   \u001b[0m     json_out[\"return_val\"] = \u001b[31mhook\u001b[0m\u001b[1;31m(**hook_input[\"kwargs\"])\u001b[0m\n",
            "  \u001b[31m   \u001b[0m                              \u001b[31m~~~~\u001b[0m\u001b[1;31m^^^^^^^^^^^^^^^^^^^^^^^^\u001b[0m\n",
            "  \u001b[31m   \u001b[0m   File \u001b[35m\"/Users/marcoramirez/Desktop/programming/BI/proy1BI/venv/lib/python3.13/site-packages/pip/_vendor/pyproject_hooks/_in_process/_in_process.py\"\u001b[0m, line \u001b[35m143\u001b[0m, in \u001b[35mget_requires_for_build_wheel\u001b[0m\n",
            "  \u001b[31m   \u001b[0m     return hook(config_settings)\n",
            "  \u001b[31m   \u001b[0m   File \u001b[35m\"/private/var/folders/7n/m_0xxz6n61z8yckmzmr_47f40000gn/T/pip-build-env-f1jromau/overlay/lib/python3.13/site-packages/setuptools/build_meta.py\"\u001b[0m, line \u001b[35m334\u001b[0m, in \u001b[35mget_requires_for_build_wheel\u001b[0m\n",
            "  \u001b[31m   \u001b[0m     return \u001b[31mself._get_build_requires\u001b[0m\u001b[1;31m(config_settings, requirements=[])\u001b[0m\n",
            "  \u001b[31m   \u001b[0m            \u001b[31m~~~~~~~~~~~~~~~~~~~~~~~~\u001b[0m\u001b[1;31m^^^^^^^^^^^^^^^^^^^^^^^^^^^^^^^^^^\u001b[0m\n",
            "  \u001b[31m   \u001b[0m   File \u001b[35m\"/private/var/folders/7n/m_0xxz6n61z8yckmzmr_47f40000gn/T/pip-build-env-f1jromau/overlay/lib/python3.13/site-packages/setuptools/build_meta.py\"\u001b[0m, line \u001b[35m304\u001b[0m, in \u001b[35m_get_build_requires\u001b[0m\n",
            "  \u001b[31m   \u001b[0m     \u001b[31mself.run_setup\u001b[0m\u001b[1;31m()\u001b[0m\n",
            "  \u001b[31m   \u001b[0m     \u001b[31m~~~~~~~~~~~~~~\u001b[0m\u001b[1;31m^^\u001b[0m\n",
            "  \u001b[31m   \u001b[0m   File \u001b[35m\"/private/var/folders/7n/m_0xxz6n61z8yckmzmr_47f40000gn/T/pip-build-env-f1jromau/overlay/lib/python3.13/site-packages/setuptools/build_meta.py\"\u001b[0m, line \u001b[35m522\u001b[0m, in \u001b[35mrun_setup\u001b[0m\n",
            "  \u001b[31m   \u001b[0m     \u001b[31msuper().run_setup\u001b[0m\u001b[1;31m(setup_script=setup_script)\u001b[0m\n",
            "  \u001b[31m   \u001b[0m     \u001b[31m~~~~~~~~~~~~~~~~~\u001b[0m\u001b[1;31m^^^^^^^^^^^^^^^^^^^^^^^^^^^\u001b[0m\n",
            "  \u001b[31m   \u001b[0m   File \u001b[35m\"/private/var/folders/7n/m_0xxz6n61z8yckmzmr_47f40000gn/T/pip-build-env-f1jromau/overlay/lib/python3.13/site-packages/setuptools/build_meta.py\"\u001b[0m, line \u001b[35m320\u001b[0m, in \u001b[35mrun_setup\u001b[0m\n",
            "  \u001b[31m   \u001b[0m     \u001b[31mexec\u001b[0m\u001b[1;31m(code, locals())\u001b[0m\n",
            "  \u001b[31m   \u001b[0m     \u001b[31m~~~~\u001b[0m\u001b[1;31m^^^^^^^^^^^^^^^^\u001b[0m\n",
            "  \u001b[31m   \u001b[0m   File \u001b[35m\"<string>\"\u001b[0m, line \u001b[35m4\u001b[0m, in \u001b[35m<module>\u001b[0m\n",
            "  \u001b[31m   \u001b[0m   File \u001b[35m\"/private/var/folders/7n/m_0xxz6n61z8yckmzmr_47f40000gn/T/pip-install-fnvbju4m/htmlmin_81cf80a911ba498492dd9fb3fb814a81/htmlmin/__init__.py\"\u001b[0m, line \u001b[35m28\u001b[0m, in \u001b[35m<module>\u001b[0m\n",
            "  \u001b[31m   \u001b[0m     from .main import minify, Minifier\n",
            "  \u001b[31m   \u001b[0m   File \u001b[35m\"/private/var/folders/7n/m_0xxz6n61z8yckmzmr_47f40000gn/T/pip-install-fnvbju4m/htmlmin_81cf80a911ba498492dd9fb3fb814a81/htmlmin/main.py\"\u001b[0m, line \u001b[35m28\u001b[0m, in \u001b[35m<module>\u001b[0m\n",
            "  \u001b[31m   \u001b[0m     import cgi\n",
            "  \u001b[31m   \u001b[0m \u001b[1;35mModuleNotFoundError\u001b[0m: \u001b[35mNo module named 'cgi'\u001b[0m\n",
            "  \u001b[31m   \u001b[0m \u001b[31m[end of output]\u001b[0m\n",
            "  \n",
            "  \u001b[1;35mnote\u001b[0m: This error originates from a subprocess, and is likely not a problem with pip.\n",
            "\u001b[?25h\u001b[1;31merror\u001b[0m: \u001b[1msubprocess-exited-with-error\u001b[0m\n",
            "\n",
            "\u001b[31m×\u001b[0m \u001b[32mGetting requirements to build wheel\u001b[0m did not run successfully.\n",
            "\u001b[31m│\u001b[0m exit code: \u001b[1;36m1\u001b[0m\n",
            "\u001b[31m╰─>\u001b[0m See above for output.\n",
            "\n",
            "\u001b[1;35mnote\u001b[0m: This error originates from a subprocess, and is likely not a problem with pip.\n"
          ]
        },
        {
          "name": "stderr",
          "output_type": "stream",
          "text": [
            "[nltk_data] Downloading package stopwords to\n",
            "[nltk_data]     /Users/marcoramirez/nltk_data...\n",
            "[nltk_data]   Package stopwords is already up-to-date!\n",
            "[nltk_data] Downloading package wordnet to\n",
            "[nltk_data]     /Users/marcoramirez/nltk_data...\n",
            "[nltk_data]   Package wordnet is already up-to-date!\n"
          ]
        }
      ],
      "source": [
        "# Instalación de librerías (solo necesario si no están instaladas)\n",
        "!pip install contractions nltk pandas-profiling joblib num2words\n",
        "\n",
        "# Importaciones generales\n",
        "import sys\n",
        "import re\n",
        "import string\n",
        "import unicodedata\n",
        "import numpy as np\n",
        "import pandas as pd\n",
        "import contractions\n",
        "import inflect\n",
        "import matplotlib.pyplot as plt\n",
        "\n",
        "# Procesamiento de lenguaje natural (NLP)\n",
        "import nltk\n",
        "from nltk import word_tokenize, sent_tokenize, PorterStemmer\n",
        "from nltk.corpus import stopwords\n",
        "from nltk.stem import LancasterStemmer, WordNetLemmatizer\n",
        "\n",
        "# Descarga de recursos de NLTK\n",
        "nltk.download('stopwords')\n",
        "nltk.download('wordnet')\n",
        "\n",
        "# Configuración de stopwords y tokenizador\n",
        "stop_words = stopwords.words('spanish')\n",
        "wpt = nltk.WordPunctTokenizer()\n",
        "ps = PorterStemmer()\n",
        "\n",
        "# Modelado y machine learning\n",
        "from sklearn.model_selection import train_test_split, GridSearchCV\n",
        "from sklearn.feature_extraction.text import TfidfVectorizer, CountVectorizer, HashingVectorizer\n",
        "from sklearn.pipeline import Pipeline, FeatureUnion, make_pipeline\n",
        "from sklearn.svm import SVC\n",
        "from sklearn.ensemble import BaggingClassifier, RandomForestClassifier, AdaBoostClassifier\n",
        "from sklearn.naive_bayes import BernoulliNB\n",
        "from sklearn.linear_model import LogisticRegression\n",
        "from sklearn.metrics import classification_report, confusion_matrix\n",
        "from sklearn.base import BaseEstimator, ClassifierMixin\n",
        "import joblib\n",
        "# XGBoost\n",
        "from xgboost import XGBClassifier"
      ]
    },
    {
      "cell_type": "code",
      "execution_count": 101,
      "metadata": {
        "id": "jY5fTkcCbrf4"
      },
      "outputs": [],
      "source": [
        "def getTrainData():\n",
        "    try:\n",
        "        df = pd.read_csv('/content/proy1BI/fake_news_spanish.csv',\n",
        "                        encoding='utf-8', sep=\";\")\n",
        "    except:\n",
        "        df = pd.read_csv('fake_news_spanish.csv',\n",
        "                        encoding='utf-8', sep=\";\")\n",
        "\n",
        "    return df\n",
        "\n",
        "def getTestData():\n",
        "    try:\n",
        "        data_test = pd.read_csv(\n",
        "            '/content/proy1BI/fake_news_test.csv', encoding='utf-8', sep=\";\")\n",
        "    except:\n",
        "        data_test = pd.read_csv('fake_news_test.csv', encoding='utf-8', \n",
        "                                sep=\";\")\n",
        "    return data_test\n",
        "\n",
        "df = getTrainData()\n",
        "data_test = getTestData()"
      ]
    },
    {
      "cell_type": "code",
      "execution_count": 102,
      "metadata": {
        "id": "boGGM7IDqkyR"
      },
      "outputs": [],
      "source": [
        "# df = pd.read_csv('fake_news_spanish.csv', encoding='utf-8', sep = \";\")\n",
        "# data_test = pd.read_csv('fake_news_test.csv', encoding='utf-8', sep = \";\")"
      ]
    },
    {
      "cell_type": "code",
      "execution_count": 103,
      "metadata": {
        "colab": {
          "base_uri": "https://localhost:8080/",
          "height": 80
        },
        "id": "TNmlZKqmnyXt",
        "outputId": "a2b0451a-b6d2-4971-b704-8aa0f40fe634"
      },
      "outputs": [
        {
          "data": {
            "text/html": [
              "<div>\n",
              "<style scoped>\n",
              "    .dataframe tbody tr th:only-of-type {\n",
              "        vertical-align: middle;\n",
              "    }\n",
              "\n",
              "    .dataframe tbody tr th {\n",
              "        vertical-align: top;\n",
              "    }\n",
              "\n",
              "    .dataframe thead th {\n",
              "        text-align: right;\n",
              "    }\n",
              "</style>\n",
              "<table border=\"1\" class=\"dataframe\">\n",
              "  <thead>\n",
              "    <tr style=\"text-align: right;\">\n",
              "      <th></th>\n",
              "      <th>ID</th>\n",
              "      <th>Label</th>\n",
              "      <th>Titulo</th>\n",
              "      <th>Descripcion</th>\n",
              "      <th>Fecha</th>\n",
              "    </tr>\n",
              "  </thead>\n",
              "  <tbody>\n",
              "    <tr>\n",
              "      <th>0</th>\n",
              "      <td>ID</td>\n",
              "      <td>1</td>\n",
              "      <td>'The Guardian' va con Sánchez: 'Europa necesit...</td>\n",
              "      <td>El diario británico publicó este pasado jueves...</td>\n",
              "      <td>02/06/2023</td>\n",
              "    </tr>\n",
              "  </tbody>\n",
              "</table>\n",
              "</div>"
            ],
            "text/plain": [
              "   ID  Label                                             Titulo  \\\n",
              "0  ID      1  'The Guardian' va con Sánchez: 'Europa necesit...   \n",
              "\n",
              "                                         Descripcion       Fecha  \n",
              "0  El diario británico publicó este pasado jueves...  02/06/2023  "
            ]
          },
          "execution_count": 103,
          "metadata": {},
          "output_type": "execute_result"
        }
      ],
      "source": [
        "df.head(1)"
      ]
    },
    {
      "cell_type": "code",
      "execution_count": 104,
      "metadata": {
        "colab": {
          "base_uri": "https://localhost:8080/"
        },
        "id": "1uO9vEi-ejAw",
        "outputId": "f9bb5062-71a1-43cb-a95e-9a3283b61cd1"
      },
      "outputs": [
        {
          "name": "stdout",
          "output_type": "stream",
          "text": [
            "data spanish (57063, 5)\n",
            "data test (57063, 5)\n"
          ]
        }
      ],
      "source": [
        "print('data spanish', df.shape)\n",
        "print('data test', df.shape)"
      ]
    },
    {
      "cell_type": "markdown",
      "metadata": {
        "id": "wEjp7rxVezZk"
      },
      "source": [
        "#Sección 2. Entendimiento y preparación de los datos"
      ]
    },
    {
      "cell_type": "markdown",
      "metadata": {
        "id": "VftEXVzXgIFP"
      },
      "source": [
        "# 2.1 Entendimiento de datos"
      ]
    },
    {
      "cell_type": "code",
      "execution_count": 105,
      "metadata": {
        "colab": {
          "base_uri": "https://localhost:8080/",
          "height": 241
        },
        "id": "3lF6KN-OgHlz",
        "outputId": "8242562a-130a-4e5e-f2d3-c665ae18695e"
      },
      "outputs": [
        {
          "data": {
            "text/plain": [
              "ID             object\n",
              "Label           int64\n",
              "Titulo         object\n",
              "Descripcion    object\n",
              "Fecha          object\n",
              "dtype: object"
            ]
          },
          "execution_count": 105,
          "metadata": {},
          "output_type": "execute_result"
        }
      ],
      "source": [
        "df.dtypes"
      ]
    },
    {
      "cell_type": "markdown",
      "metadata": {
        "id": "v-JR46u8Rqc7"
      },
      "source": [
        "Identificamos que las columnas de tipo object no tienen el formato correcto, estas se cambiaran más adelante."
      ]
    },
    {
      "cell_type": "code",
      "execution_count": 106,
      "metadata": {
        "colab": {
          "base_uri": "https://localhost:8080/",
          "height": 363
        },
        "id": "XPbobxZyeyxu",
        "outputId": "8ce3be97-cbbb-4506-a330-c79de231331c"
      },
      "outputs": [
        {
          "data": {
            "text/html": [
              "<div>\n",
              "<style scoped>\n",
              "    .dataframe tbody tr th:only-of-type {\n",
              "        vertical-align: middle;\n",
              "    }\n",
              "\n",
              "    .dataframe tbody tr th {\n",
              "        vertical-align: top;\n",
              "    }\n",
              "\n",
              "    .dataframe thead th {\n",
              "        text-align: right;\n",
              "    }\n",
              "</style>\n",
              "<table border=\"1\" class=\"dataframe\">\n",
              "  <thead>\n",
              "    <tr style=\"text-align: right;\">\n",
              "      <th></th>\n",
              "      <th>ID</th>\n",
              "      <th>Label</th>\n",
              "      <th>Titulo</th>\n",
              "      <th>Descripcion</th>\n",
              "      <th>Fecha</th>\n",
              "    </tr>\n",
              "  </thead>\n",
              "  <tbody>\n",
              "    <tr>\n",
              "      <th>0</th>\n",
              "      <td>ID</td>\n",
              "      <td>1</td>\n",
              "      <td>'The Guardian' va con Sánchez: 'Europa necesit...</td>\n",
              "      <td>El diario británico publicó este pasado jueves...</td>\n",
              "      <td>02/06/2023</td>\n",
              "    </tr>\n",
              "    <tr>\n",
              "      <th>1</th>\n",
              "      <td>ID</td>\n",
              "      <td>0</td>\n",
              "      <td>REVELAN QUE EL GOBIERNO NEGOCIO LA LIBERACIÓN ...</td>\n",
              "      <td>REVELAN QUE EL GOBIERNO NEGOCIO LA LIBERACIÓN ...</td>\n",
              "      <td>01/10/2023</td>\n",
              "    </tr>\n",
              "    <tr>\n",
              "      <th>2</th>\n",
              "      <td>ID</td>\n",
              "      <td>1</td>\n",
              "      <td>El 'Ahora o nunca' de Joan Fuster sobre el est...</td>\n",
              "      <td>El valencianismo convoca en Castelló su fiesta...</td>\n",
              "      <td>25/04/2022</td>\n",
              "    </tr>\n",
              "    <tr>\n",
              "      <th>3</th>\n",
              "      <td>ID</td>\n",
              "      <td>1</td>\n",
              "      <td>Iglesias alienta a Yolanda Díaz, ERC y EH Bild...</td>\n",
              "      <td>En política, igual que hay que negociar con lo...</td>\n",
              "      <td>03/01/2022</td>\n",
              "    </tr>\n",
              "    <tr>\n",
              "      <th>4</th>\n",
              "      <td>ID</td>\n",
              "      <td>0</td>\n",
              "      <td>Puigdemont: 'No sería ninguna tragedia una rep...</td>\n",
              "      <td>En una entrevista en El Punt Avui, el líder de...</td>\n",
              "      <td>09/03/2018</td>\n",
              "    </tr>\n",
              "    <tr>\n",
              "      <th>5</th>\n",
              "      <td>ID</td>\n",
              "      <td>1</td>\n",
              "      <td>El PNV consolida su mayoría, el PSE salva los ...</td>\n",
              "      <td>Los nacionalistas consiguen las alcaldías de B...</td>\n",
              "      <td>26/05/2019</td>\n",
              "    </tr>\n",
              "    <tr>\n",
              "      <th>6</th>\n",
              "      <td>ID</td>\n",
              "      <td>0</td>\n",
              "      <td>El exconsejero Núria Marín pide el indulto en ...</td>\n",
              "      <td>Sus familiares aluden a su honestidad e integr...</td>\n",
              "      <td>16/09/2022</td>\n",
              "    </tr>\n",
              "    <tr>\n",
              "      <th>7</th>\n",
              "      <td>ID</td>\n",
              "      <td>1</td>\n",
              "      <td>La Fiscalía pide prisión incondicional para lo...</td>\n",
              "      <td>Suprime el delito de rebelión que les imputó i...</td>\n",
              "      <td>26/09/2019</td>\n",
              "    </tr>\n",
              "    <tr>\n",
              "      <th>8</th>\n",
              "      <td>ID</td>\n",
              "      <td>1</td>\n",
              "      <td>José Manuel Pérez Tornero, el creador de la te...</td>\n",
              "      <td>El futuro presidente de RTVE es licenciado en ...</td>\n",
              "      <td>25/02/2021</td>\n",
              "    </tr>\n",
              "    <tr>\n",
              "      <th>9</th>\n",
              "      <td>ID</td>\n",
              "      <td>0</td>\n",
              "      <td>La 'Ayusización' del BNG: Santiago Abascal ins...</td>\n",
              "      <td>Pablo Santiago Abascal planea vivir de las ren...</td>\n",
              "      <td>10/05/2021</td>\n",
              "    </tr>\n",
              "  </tbody>\n",
              "</table>\n",
              "</div>"
            ],
            "text/plain": [
              "   ID  Label                                             Titulo  \\\n",
              "0  ID      1  'The Guardian' va con Sánchez: 'Europa necesit...   \n",
              "1  ID      0  REVELAN QUE EL GOBIERNO NEGOCIO LA LIBERACIÓN ...   \n",
              "2  ID      1  El 'Ahora o nunca' de Joan Fuster sobre el est...   \n",
              "3  ID      1  Iglesias alienta a Yolanda Díaz, ERC y EH Bild...   \n",
              "4  ID      0  Puigdemont: 'No sería ninguna tragedia una rep...   \n",
              "5  ID      1  El PNV consolida su mayoría, el PSE salva los ...   \n",
              "6  ID      0  El exconsejero Núria Marín pide el indulto en ...   \n",
              "7  ID      1  La Fiscalía pide prisión incondicional para lo...   \n",
              "8  ID      1  José Manuel Pérez Tornero, el creador de la te...   \n",
              "9  ID      0  La 'Ayusización' del BNG: Santiago Abascal ins...   \n",
              "\n",
              "                                         Descripcion       Fecha  \n",
              "0  El diario británico publicó este pasado jueves...  02/06/2023  \n",
              "1  REVELAN QUE EL GOBIERNO NEGOCIO LA LIBERACIÓN ...  01/10/2023  \n",
              "2  El valencianismo convoca en Castelló su fiesta...  25/04/2022  \n",
              "3  En política, igual que hay que negociar con lo...  03/01/2022  \n",
              "4  En una entrevista en El Punt Avui, el líder de...  09/03/2018  \n",
              "5  Los nacionalistas consiguen las alcaldías de B...  26/05/2019  \n",
              "6  Sus familiares aluden a su honestidad e integr...  16/09/2022  \n",
              "7  Suprime el delito de rebelión que les imputó i...  26/09/2019  \n",
              "8  El futuro presidente de RTVE es licenciado en ...  25/02/2021  \n",
              "9  Pablo Santiago Abascal planea vivir de las ren...  10/05/2021  "
            ]
          },
          "execution_count": 106,
          "metadata": {},
          "output_type": "execute_result"
        }
      ],
      "source": [
        "df.head(10)"
      ]
    },
    {
      "cell_type": "code",
      "execution_count": 107,
      "metadata": {
        "colab": {
          "base_uri": "https://localhost:8080/",
          "height": 206
        },
        "id": "TKKz9HTylJHw",
        "outputId": "2fd19d63-b22e-415f-c46d-3f071a1cbe08"
      },
      "outputs": [
        {
          "data": {
            "text/html": [
              "<div>\n",
              "<style scoped>\n",
              "    .dataframe tbody tr th:only-of-type {\n",
              "        vertical-align: middle;\n",
              "    }\n",
              "\n",
              "    .dataframe tbody tr th {\n",
              "        vertical-align: top;\n",
              "    }\n",
              "\n",
              "    .dataframe thead th {\n",
              "        text-align: right;\n",
              "    }\n",
              "</style>\n",
              "<table border=\"1\" class=\"dataframe\">\n",
              "  <thead>\n",
              "    <tr style=\"text-align: right;\">\n",
              "      <th></th>\n",
              "      <th>ID</th>\n",
              "      <th>Titulo</th>\n",
              "      <th>Descripcion</th>\n",
              "      <th>Fecha</th>\n",
              "    </tr>\n",
              "  </thead>\n",
              "  <tbody>\n",
              "    <tr>\n",
              "      <th>0</th>\n",
              "      <td>ID</td>\n",
              "      <td>La mesa del congreso censura un encuentro inte...</td>\n",
              "      <td>Portavoces de Ciudadanos, PNV, UPN, PSOE, Unid...</td>\n",
              "      <td>30/10/2018</td>\n",
              "    </tr>\n",
              "    <tr>\n",
              "      <th>1</th>\n",
              "      <td>ID</td>\n",
              "      <td>La brecha digital que dificulta el acceso de a...</td>\n",
              "      <td>No es la primera vez que los ciudadanos vulner...</td>\n",
              "      <td>15/03/2023</td>\n",
              "    </tr>\n",
              "    <tr>\n",
              "      <th>2</th>\n",
              "      <td>ID</td>\n",
              "      <td>PP apremia al EQUO a presentar una propuesta d...</td>\n",
              "      <td>El partido morado reprocha que los socialistas...</td>\n",
              "      <td>01/07/2019</td>\n",
              "    </tr>\n",
              "    <tr>\n",
              "      <th>3</th>\n",
              "      <td>ID</td>\n",
              "      <td>De soberano garante de la democracia a rey cor...</td>\n",
              "      <td>La renuncia de Felipe VI a su herencia, proced...</td>\n",
              "      <td>16/03/2020</td>\n",
              "    </tr>\n",
              "    <tr>\n",
              "      <th>4</th>\n",
              "      <td>ID</td>\n",
              "      <td>El Gobierno aprobará este martes detraer los b...</td>\n",
              "      <td>El Ejecutivo también prorrogará la suspensión ...</td>\n",
              "      <td>13/09/2021</td>\n",
              "    </tr>\n",
              "  </tbody>\n",
              "</table>\n",
              "</div>"
            ],
            "text/plain": [
              "   ID                                             Titulo  \\\n",
              "0  ID  La mesa del congreso censura un encuentro inte...   \n",
              "1  ID  La brecha digital que dificulta el acceso de a...   \n",
              "2  ID  PP apremia al EQUO a presentar una propuesta d...   \n",
              "3  ID  De soberano garante de la democracia a rey cor...   \n",
              "4  ID  El Gobierno aprobará este martes detraer los b...   \n",
              "\n",
              "                                         Descripcion       Fecha  \n",
              "0  Portavoces de Ciudadanos, PNV, UPN, PSOE, Unid...  30/10/2018  \n",
              "1  No es la primera vez que los ciudadanos vulner...  15/03/2023  \n",
              "2  El partido morado reprocha que los socialistas...  01/07/2019  \n",
              "3  La renuncia de Felipe VI a su herencia, proced...  16/03/2020  \n",
              "4  El Ejecutivo también prorrogará la suspensión ...  13/09/2021  "
            ]
          },
          "execution_count": 107,
          "metadata": {},
          "output_type": "execute_result"
        }
      ],
      "source": [
        "data_test.head(5)"
      ]
    },
    {
      "cell_type": "code",
      "execution_count": 108,
      "metadata": {
        "id": "Ynl9JD-AxyiZ"
      },
      "outputs": [],
      "source": [
        "# descomentarlo cuando se vaya a entregar\n",
        "# !pip install ydata-profiling\n",
        "# from ydata_profiling import ProfileReport\n",
        "\n",
        "# perfil = ProfileReport(df, title=\"Perfilamiento de Datos\", explorative=True)\n",
        "# perfil.to_notebook_iframe()"
      ]
    },
    {
      "cell_type": "markdown",
      "metadata": {
        "id": "8hzIecC4yEB9"
      },
      "source": [
        "* Número de variables: 5\n",
        "* observaciones: 57063\n",
        "* celdas faltantes 35339\n",
        "* no hay duplicados\n",
        "* lablel -> 33158 en 1 , 23905 en 0\n",
        "* 16 titulos faltantes, 90.5% únicos\n",
        "* 0 descripciones faltantes, 87% únicos\n",
        "* faltan 61.9%fechas\n",
        "\n"
      ]
    },
    {
      "cell_type": "markdown",
      "metadata": {
        "id": "6QKFjo_EIoQL"
      },
      "source": [
        "###Variables categóricas"
      ]
    },
    {
      "cell_type": "code",
      "execution_count": 109,
      "metadata": {
        "colab": {
          "base_uri": "https://localhost:8080/",
          "height": 300
        },
        "id": "CXBRxVyQI-ns",
        "outputId": "0b246c52-4960-4167-e03e-38d248761a22"
      },
      "outputs": [
        {
          "data": {
            "text/html": [
              "<div>\n",
              "<style scoped>\n",
              "    .dataframe tbody tr th:only-of-type {\n",
              "        vertical-align: middle;\n",
              "    }\n",
              "\n",
              "    .dataframe tbody tr th {\n",
              "        vertical-align: top;\n",
              "    }\n",
              "\n",
              "    .dataframe thead th {\n",
              "        text-align: right;\n",
              "    }\n",
              "</style>\n",
              "<table border=\"1\" class=\"dataframe\">\n",
              "  <thead>\n",
              "    <tr style=\"text-align: right;\">\n",
              "      <th></th>\n",
              "      <th>Label</th>\n",
              "    </tr>\n",
              "  </thead>\n",
              "  <tbody>\n",
              "    <tr>\n",
              "      <th>count</th>\n",
              "      <td>57063.000000</td>\n",
              "    </tr>\n",
              "    <tr>\n",
              "      <th>mean</th>\n",
              "      <td>0.581077</td>\n",
              "    </tr>\n",
              "    <tr>\n",
              "      <th>std</th>\n",
              "      <td>0.493387</td>\n",
              "    </tr>\n",
              "    <tr>\n",
              "      <th>min</th>\n",
              "      <td>0.000000</td>\n",
              "    </tr>\n",
              "    <tr>\n",
              "      <th>25%</th>\n",
              "      <td>0.000000</td>\n",
              "    </tr>\n",
              "    <tr>\n",
              "      <th>50%</th>\n",
              "      <td>1.000000</td>\n",
              "    </tr>\n",
              "    <tr>\n",
              "      <th>75%</th>\n",
              "      <td>1.000000</td>\n",
              "    </tr>\n",
              "    <tr>\n",
              "      <th>max</th>\n",
              "      <td>1.000000</td>\n",
              "    </tr>\n",
              "  </tbody>\n",
              "</table>\n",
              "</div>"
            ],
            "text/plain": [
              "              Label\n",
              "count  57063.000000\n",
              "mean       0.581077\n",
              "std        0.493387\n",
              "min        0.000000\n",
              "25%        0.000000\n",
              "50%        1.000000\n",
              "75%        1.000000\n",
              "max        1.000000"
            ]
          },
          "execution_count": 109,
          "metadata": {},
          "output_type": "execute_result"
        }
      ],
      "source": [
        "df.describe()"
      ]
    },
    {
      "cell_type": "code",
      "execution_count": 110,
      "metadata": {},
      "outputs": [
        {
          "data": {
            "image/png": "[encoded data removed]",
            "text/plain": [
              "<Figure size 640x480 with 1 Axes>"
            ]
          },
          "metadata": {},
          "output_type": "display_data"
        }
      ],
      "source": [
        "import matplotlib.pyplot as plt\n",
        "\n",
        "\n",
        "# Plotting the value counts\n",
        "label_counts = df[\"Label\"].value_counts()\n",
        "label_counts.plot(kind='pie', autopct='%1.1f%%', startangle=90,\n",
        "                  counterclock=False, colors=['#c1ff72', '#ff5757'])\n",
        "plt.legend(['True', 'False'])\n",
        "plt.title('Distribución labels noticias', fontweight='bold')\n",
        "plt.ylabel('')\n",
        "plt.show()"
      ]
    },
    {
      "cell_type": "markdown",
      "metadata": {
        "id": "E1fYC2KkJBtv"
      },
      "source": [
        "Se puede evidenciar que de la variable **label** el valor mínimo es 0 y el máximo es 1. La media es de 0.581, es decir que el 58.1% de las noticias son verdaderas. Esto también se evidencia con la mediana ya que su valor es de 1.\n",
        "\n",
        "Adicionalmente la variable **ID** por el momento es categorica ya que todos los valores son 'ID'. Haremos un manejo de esta variable más adelante"
      ]
    },
    {
      "cell_type": "markdown",
      "metadata": {
        "id": "S4jUz6zdLTVv"
      },
      "source": [
        "### Variables de texto"
      ]
    },
    {
      "cell_type": "markdown",
      "metadata": {
        "id": "Qqwxz-4UMwZD"
      },
      "source": [
        "Las dos variables de texto identificadas son **titulo** y **descripción**. Se observa que las palabras más frecuentes son stopwords como \"de\", \"los\", \"que\", \"la\", \"del\", \"y\", \"a\", \"por\", \"para\". Estas serán eliminadas en la fase de preprocesamiento con **lematización**. Así mismo evicenciamos palabras con tíldes, mucha puntuación y palabras con caracteres no ASCII que puede generar ruido en los datos por lo cual se le dara un manejo en el preprocesamiento."
      ]
    },
    {
      "cell_type": "markdown",
      "metadata": {
        "id": "TRh9izDNMEaH"
      },
      "source": [
        "##Variable DateTime"
      ]
    },
    {
      "cell_type": "code",
      "execution_count": 111,
      "metadata": {},
      "outputs": [
        {
          "data": {
            "image/png": "[encoded data removed]",
            "text/plain": [
              "<Figure size 1200x600 with 1 Axes>"
            ]
          },
          "metadata": {},
          "output_type": "display_data"
        }
      ],
      "source": [
        "# Plotting the frequency of each date\n",
        "conteo_fechas = df['Fecha'].value_counts().sort_index()\n",
        "conteo_fechas.plot(kind='line', figsize=(12, 6))\n",
        "plt.xlabel('Fecha')\n",
        "plt.ylabel('Frecuencia')\n",
        "plt.grid(True)\n",
        "plt.title('Frecuencia de noticias por fecha', fontweight='bold')\n",
        "plt.show()"
      ]
    },
    {
      "cell_type": "markdown",
      "metadata": {
        "id": "uv5obuVEPSF7"
      },
      "source": [
        "Se evidencia que las noticias a analizar son de los últimos nueve años. Con la noticia más antigua detectada siendo del 01/02/2016 y la más reciente del 28/12/2024."
      ]
    },
    {
      "cell_type": "markdown",
      "metadata": {
        "id": "lsG3auOcgs5o"
      },
      "source": [
        "# 2.2 Preparación de datos"
      ]
    },
    {
      "cell_type": "markdown",
      "metadata": {
        "id": "M0Fg12CLhLWm"
      },
      "source": [
        "### Completitud"
      ]
    },
    {
      "cell_type": "code",
      "execution_count": 112,
      "metadata": {
        "colab": {
          "base_uri": "https://localhost:8080/",
          "height": 241
        },
        "id": "9Reye8bKhGkG",
        "outputId": "431b9c4b-d179-4980-d633-a5c725a6e72d"
      },
      "outputs": [
        {
          "data": {
            "text/plain": [
              "Titulo         0.00028\n",
              "ID             0.00000\n",
              "Label          0.00000\n",
              "Descripcion    0.00000\n",
              "Fecha          0.00000\n",
              "dtype: float64"
            ]
          },
          "execution_count": 112,
          "metadata": {},
          "output_type": "execute_result"
        }
      ],
      "source": [
        "# Cálculo de porcentaje de valores nulos por columna\n",
        "((df.isnull().sum()/df.shape[0])).sort_values(ascending=False)"
      ]
    },
    {
      "cell_type": "markdown",
      "metadata": {
        "id": "ZzoDiBxphRpC"
      },
      "source": [
        "### Unicidad"
      ]
    },
    {
      "cell_type": "code",
      "execution_count": 113,
      "metadata": {
        "colab": {
          "base_uri": "https://localhost:8080/"
        },
        "id": "EZ6a_m0PhYVy",
        "outputId": "62bf8ebf-a3d2-4369-e4cb-1a9ab3736154"
      },
      "outputs": [
        {
          "data": {
            "text/plain": [
              "np.int64(445)"
            ]
          },
          "execution_count": 113,
          "metadata": {},
          "output_type": "execute_result"
        }
      ],
      "source": [
        "df.duplicated().sum()"
      ]
    },
    {
      "cell_type": "code",
      "execution_count": 114,
      "metadata": {
        "colab": {
          "base_uri": "https://localhost:8080/"
        },
        "id": "bPZpKX-uhejK",
        "outputId": "1d6b8f0b-8feb-442c-c29c-26a277d78a75"
      },
      "outputs": [
        {
          "name": "stdout",
          "output_type": "stream",
          "text": [
            "Titulo: 5458\n",
            "Descripcion: 7425\n"
          ]
        }
      ],
      "source": [
        "# Duplicados parciales\n",
        "numeric_cols=['Titulo','Descripcion']\n",
        "for col in numeric_cols:\n",
        "    num_duplicated = df.duplicated(subset = col).sum()\n",
        "    print(f\"{col}: {num_duplicated}\")"
      ]
    },
    {
      "cell_type": "markdown",
      "metadata": {
        "id": "sM05RZR8mDTK"
      },
      "source": [
        "Si una descripción se repite 2 veces puede ser para poner titulos diferentes, o fechas diferentes, y de esta manera son 2 datos únicos y que se deben tener en cuenta y no borrarlos. Pero si el titulo, la descripcion y el label se repiten, ahí si son datos no relevantes, dado que dan la misma información"
      ]
    },
    {
      "cell_type": "markdown",
      "metadata": {
        "id": "UEfuCeeVzC7f"
      },
      "source": [
        "## Consistencia"
      ]
    },
    {
      "cell_type": "markdown",
      "metadata": {
        "id": "P6-B9lWAJtZQ"
      },
      "source": [
        "0 sígnfica que la noticia es falsa y 1 que es verídica"
      ]
    },
    {
      "cell_type": "code",
      "execution_count": 115,
      "metadata": {
        "colab": {
          "base_uri": "https://localhost:8080/"
        },
        "id": "9rnR2yN3y2rN",
        "outputId": "93bf2cc4-2ca0-49bd-881f-926d206a2662"
      },
      "outputs": [
        {
          "name": "stdout",
          "output_type": "stream",
          "text": [
            "Label\n",
            "1    33158\n",
            "0    23905\n",
            "Name: count, dtype: int64\n",
            "========== Distribución labels ==========\n",
            "label 1: 0.5811 %\n",
            "label 0: 0.4189 %\n"
          ]
        }
      ],
      "source": [
        "# Voy a revisar la columna label\n",
        "print(df[\"Label\"].value_counts())\n",
        "print('='*10, 'Distribución labels', '='*10)\n",
        "print('label 1:',round(df[df['Label'] == 1].shape[0]/df.shape[0],4),'%')\n",
        "print('label 0:',round(df[df['Label'] == 0].shape[0]/df.shape[0],4),'%')\n"
      ]
    },
    {
      "cell_type": "markdown",
      "metadata": {
        "id": "taxvKUcMjTo_"
      },
      "source": [
        "##**validez**"
      ]
    },
    {
      "cell_type": "code",
      "execution_count": 116,
      "metadata": {
        "colab": {
          "base_uri": "https://localhost:8080/",
          "height": 489
        },
        "id": "_xj93TY7jO7Q",
        "outputId": "de7ecf76-9cb9-45f4-afad-17481b7188f7"
      },
      "outputs": [
        {
          "data": {
            "text/plain": [
              "Fecha\n",
              "2016-02-01    1\n",
              "2016-03-03    1\n",
              "2016-03-12    1\n",
              "2016-04-02    1\n",
              "2016-04-03    1\n",
              "             ..\n",
              "2024-11-02    1\n",
              "2024-11-03    1\n",
              "2024-11-06    1\n",
              "2024-11-08    1\n",
              "2024-12-11    1\n",
              "Name: count, Length: 906, dtype: int64"
            ]
          },
          "execution_count": 116,
          "metadata": {},
          "output_type": "execute_result"
        }
      ],
      "source": [
        "df[\"Fecha\"] = pd.to_datetime(df[\"Fecha\"], errors=\"coerce\")\n",
        "conteo_fechas = df['Fecha'].value_counts().sort_index()\n",
        "conteo_fechas"
      ]
    },
    {
      "cell_type": "markdown",
      "metadata": {
        "id": "0MLRmQM8bOWF"
      },
      "source": [
        "Las fechas tienen sentido, acotando el rango de fechas de inicios de 2016 a 2024, validando que no hay datos extraños (años mucho anteriores al rango) o ninguna fecha es en el futuro, entonces todos son validos en esta medida"
      ]
    },
    {
      "cell_type": "code",
      "execution_count": 117,
      "metadata": {
        "id": "pObRM2FphAcH"
      },
      "outputs": [],
      "source": [
        "from num2words import num2words\n",
        "from nltk.stem.snowball import SnowballStemmer\n",
        "\n",
        "\n",
        "def remove_non_ascii(words):\n",
        "    \"\"\"Remove non-ASCII characters from list of tokenized words\"\"\"\n",
        "    new_words = []\n",
        "    for word in words:\n",
        "        if word is not None:\n",
        "          new_word = unicodedata.normalize('NFKD', word).encode(\n",
        "              'ascii', 'ignore').decode('utf-8', 'ignore')\n",
        "          new_words.append(new_word)\n",
        "    return new_words\n",
        "\n",
        "\n",
        "def normalize_text(text, repetar_español = False):\n",
        "    if not repetar_español:\n",
        "        text = text.replace('á', 'a')\n",
        "        text = text.replace('é', 'e')\n",
        "        text = text.replace('í', 'i')\n",
        "        text = text.replace('ó', 'o')\n",
        "        text = text.replace('ú', 'u')\n",
        "        text = text.replace('ü', 'u')\n",
        "        text = text.replace('ñ', 'n')\n",
        "\n",
        "    # Eliminate punctuation and special characters by replacing them\n",
        "    text = text.replace('(', '').replace(')', '')\n",
        "    text = text.replace('[', '').replace(']', '')\n",
        "    text = text.replace('{', '').replace('}', '')\n",
        "    text = text.replace('<', '').replace('>', '')\n",
        "    return text.lower()\n",
        "\n",
        "def to_lowercase(words, respetar_español = False):\n",
        "    return [normalize_text(word, respetar_español) for word in words]\n",
        "\n",
        "def remove_punctuation(words):\n",
        "    \"\"\"Remove punctuation from list of tokenized words\"\"\"\n",
        "    new_words = []\n",
        "    for word in words:\n",
        "        if word is not None:\n",
        "            new_word = re.sub(r'[^\\w\\s]', '', word)\n",
        "            if new_word != '':\n",
        "                new_words.append(new_word)\n",
        "    return new_words\n",
        "\n",
        "def replace_numbers(words):\n",
        "   \"\"\"Replace all interger occurrences in list of tokenized words with textual representation\"\"\"\n",
        "   new_words = []\n",
        "   for word in words:\n",
        "       if word.isdigit():\n",
        "           new_word = num2words(word, lang='es')\n",
        "           new_words.append(new_word)\n",
        "       else:\n",
        "           new_words.append(word)\n",
        "   return new_words\n",
        "\n",
        "def remove_stopwords(words):\n",
        "    nuevas_palabras = []\n",
        "    for palabra in words:\n",
        "        if palabra is not None:\n",
        "            if palabra not in stopwords.words('spanish'):\n",
        "                nuevas_palabras.append(palabra)\n",
        "    return nuevas_palabras\n",
        "\n",
        "def corregir_contracciones_espanol(texto):\n",
        "    texto = texto.replace('al ', 'a el ').replace(\n",
        "        'al.', 'a el.')  # \"al\" a \"a el\"\n",
        "    # \"del\" a \"de el\"    # Agrega más reglas aquí según sea necesario\n",
        "    texto = texto.replace('del ', 'de el ').replace('del.', 'de el.')\n",
        "    return texto\n",
        "\n",
        "def stem_words(words):\n",
        "    \"\"\"Stem words in list of tokenized words\"\"\"\n",
        "    stemmer = SnowballStemmer(\"spanish\")\n",
        "    return [stemmer.stem(word) for word in words]\n",
        "\n",
        "def lemmatize_verbs(words):\n",
        "    \"\"\"Simple lemmatization for verbs in list of tokenized words\"\"\"\n",
        "    # Simple rule-based lemmatization (you can extend this as needed)\n",
        "    lemmatized_words = []\n",
        "    for word in words:\n",
        "        if word.endswith('ar'):\n",
        "            lemmatized_words.append(word[:-2])  # Remove 'ar' (basic rule)\n",
        "        elif word.endswith('er'):\n",
        "            lemmatized_words.append(word[:-2])  # Remove 'er' (basic rule)\n",
        "        elif word.endswith('ir'):\n",
        "            lemmatized_words.append(word[:-2])  # Remove 'ir' (basic rule)\n",
        "        else:\n",
        "            # Return the word as is if no rule applies\n",
        "            lemmatized_words.append(word)\n",
        "    return lemmatized_words\n",
        "\n",
        "def stem_and_lemmatize(words, stems_parameter = True, lemmas_parameter = True):\n",
        "    \"\"\"Stem and Lemmatize words\"\"\"\n",
        "    if stems_parameter and lemmas_parameter:\n",
        "        stems = stem_words(words)\n",
        "        lemmas = lemmatize_verbs(words)\n",
        "        return stems + lemmas\n",
        "    elif lemmas_parameter:\n",
        "        lemmas = lemmatize_verbs(words)\n",
        "        return lemmas\n",
        "    elif stems_parameter:\n",
        "        stems = stem_words(words)\n",
        "        return stems\n",
        "    else:\n",
        "        return words\n",
        "\n",
        "def preprocessing(words, respetar_español = False, respetar_ascii = False):\n",
        "    words = words.split()\n",
        "    words = to_lowercase(words, respetar_español)\n",
        "    words = replace_numbers(words)\n",
        "    words = remove_punctuation(words)\n",
        "    if not respetar_ascii:\n",
        "        words = remove_non_ascii(words)\n",
        "    words = remove_stopwords(words)\n",
        "    return words"
      ]
    },
    {
      "cell_type": "markdown",
      "metadata": {
        "id": "r1r2GKVvqDJ7"
      },
      "source": [
        "Estas funciones son las que nos van a ayudar a pulir los datos previo a la vectorización"
      ]
    },
    {
      "cell_type": "code",
      "execution_count": 118,
      "metadata": {
        "id": "mh-YKVXUqdTs"
      },
      "outputs": [],
      "source": [
        "def transfor_data(df):\n",
        "    columnas = ['Titulo', 'Descripcion']\n",
        "    df = df[columnas]\n",
        "    # fill na with ''\n",
        "    df = df.fillna('')\n",
        "    for columna in columnas:\n",
        "        df[columna] = df[columna].apply(corregir_contracciones_espanol)\n",
        "        df[columna] = df[columna].apply(lambda x: preprocessing(x, False, True))\n",
        "        df[columna] = df[columna].apply(lambda x: stem_and_lemmatize(x, False, True))\n",
        "        df[columna] = df[columna].apply(lambda x: ' '.join(map(str, x)))\n",
        "    return df\n",
        "\n",
        "def get_good_test_data(respetar_espanol=False, respetar_ascii=True, lemmatize=True, stem=False, columns=['Titulo', 'Descripcion'], downsampling_percentage = 0):\n",
        "    trainData = getTrainData()\n",
        "    trainData = trainData[trainData[\"Titulo\"].notna()]\n",
        "    trainData = trainData.drop_duplicates(\n",
        "        subset=[\"Titulo\", 'Descripcion', 'Label'], keep='first')\n",
        "    for columna in columns:\n",
        "        trainData[columna] = trainData[columna].apply(\n",
        "            corregir_contracciones_espanol)\n",
        "        trainData[columna] = trainData[columna].apply(\n",
        "            lambda x: preprocessing(x, respetar_espanol, respetar_ascii))\n",
        "        if lemmatize:\n",
        "            trainData[columna] = trainData[columna].apply(\n",
        "                lambda x: stem_and_lemmatize(x, stem, lemmatize))\n",
        "        trainData[columna] = trainData[columna].apply(\n",
        "            lambda x: ' '.join(map(str, x)))\n",
        "\n",
        "    count_label_0 = trainData[trainData['Label'] == 0].shape[0]\n",
        "    count_label_1 = trainData[trainData['Label'] == 1].shape[0]\n",
        "    difference_1_0 = count_label_1 - count_label_0\n",
        "\n",
        "    if downsampling_percentage > 0:\n",
        "        df_label_1 = trainData[trainData['Label'] == 1].sample(\n",
        "            n=count_label_0 + int(difference_1_0 * downsampling_percentage), random_state=42)\n",
        "        df_label_0 = trainData[trainData['Label'] == 0]\n",
        "        trainData = pd.concat([df_label_0, df_label_1])\n",
        "\n",
        "    return trainData[columns+['Label']]"
      ]
    },
    {
      "cell_type": "markdown",
      "metadata": {
        "id": "OJ1deCbrqeIP"
      },
      "source": [
        "Dado unas iteraciones que realizamos en local, estas son los 'hiperparametros' que tuvimos en cuenta para la preparación de datos. Los mejores resultados los obtuvimos quitando caracteres del español como la ñ, las tildes, etc, no removiendo caracteres fuera del ASCII, Lemmatizando quitar los ar, er, ir, en verbos, y no hacer stemming."
      ]
    },
    {
      "cell_type": "code",
      "execution_count": 119,
      "metadata": {
        "id": "zmd6fC1Lq7Tu"
      },
      "outputs": [],
      "source": [
        "trainData = get_good_test_data()"
      ]
    },
    {
      "cell_type": "code",
      "execution_count": 120,
      "metadata": {
        "colab": {
          "base_uri": "https://localhost:8080/",
          "height": 423
        },
        "id": "21GHwShds61u",
        "outputId": "b4c3f8ab-a3bd-46f0-ca81-46b0f823ca46"
      },
      "outputs": [
        {
          "data": {
            "text/html": [
              "<div>\n",
              "<style scoped>\n",
              "    .dataframe tbody tr th:only-of-type {\n",
              "        vertical-align: middle;\n",
              "    }\n",
              "\n",
              "    .dataframe tbody tr th {\n",
              "        vertical-align: top;\n",
              "    }\n",
              "\n",
              "    .dataframe thead th {\n",
              "        text-align: right;\n",
              "    }\n",
              "</style>\n",
              "<table border=\"1\" class=\"dataframe\">\n",
              "  <thead>\n",
              "    <tr style=\"text-align: right;\">\n",
              "      <th></th>\n",
              "      <th>Titulo</th>\n",
              "      <th>Descripcion</th>\n",
              "      <th>Label</th>\n",
              "    </tr>\n",
              "  </thead>\n",
              "  <tbody>\n",
              "    <tr>\n",
              "      <th>0</th>\n",
              "      <td>the guardian va sanchez europa necesita apuest...</td>\n",
              "      <td>diario britanico publico pasado jueves editori...</td>\n",
              "      <td>1</td>\n",
              "    </tr>\n",
              "    <tr>\n",
              "      <th>1</th>\n",
              "      <td>revelan gobierno negocio liberación mireles ca...</td>\n",
              "      <td>revelan gobierno negocio liberación mireles ca...</td>\n",
              "      <td>0</td>\n",
              "    </tr>\n",
              "    <tr>\n",
              "      <th>2</th>\n",
              "      <td>ahora nunca joan fust estatuto valenciano cump...</td>\n",
              "      <td>valencianismo convoca castello fiesta grande c...</td>\n",
              "      <td>1</td>\n",
              "    </tr>\n",
              "    <tr>\n",
              "      <th>3</th>\n",
              "      <td>iglesias alienta yolanda diaz erc eh bildu neg...</td>\n",
              "      <td>politica igua negoci empresarios negoci grupos...</td>\n",
              "      <td>1</td>\n",
              "    </tr>\n",
              "    <tr>\n",
              "      <th>4</th>\n",
              "      <td>puigdemont seria ninguna tragedia repeticion e...</td>\n",
              "      <td>entrevista punt avui lid jxcat desdramatizado ...</td>\n",
              "      <td>0</td>\n",
              "    </tr>\n",
              "    <tr>\n",
              "      <th>...</th>\n",
              "      <td>...</td>\n",
              "      <td>...</td>\n",
              "      <td>...</td>\n",
              "    </tr>\n",
              "    <tr>\n",
              "      <th>57058</th>\n",
              "      <td>defensor pueblo reclama comunidad madrid datos...</td>\n",
              "      <td>gobierno regiona indicado atencion dia incluye...</td>\n",
              "      <td>1</td>\n",
              "    </tr>\n",
              "    <tr>\n",
              "      <th>57059</th>\n",
              "      <td>equo plantea ced presidencia comunidad madrid ...</td>\n",
              "      <td>si higiene democratica lleva exigencia ten pas...</td>\n",
              "      <td>0</td>\n",
              "    </tr>\n",
              "    <tr>\n",
              "      <th>57060</th>\n",
              "      <td>alberto garzon borbones ladrones hecho histori...</td>\n",
              "      <td>coordinador federa iu asegura monarquia putref...</td>\n",
              "      <td>1</td>\n",
              "    </tr>\n",
              "    <tr>\n",
              "      <th>57061</th>\n",
              "      <td>vox exige entr gobierno castilla leon cara vic...</td>\n",
              "      <td>santiago abascal vox derecho deb form gobierno...</td>\n",
              "      <td>1</td>\n",
              "    </tr>\n",
              "    <tr>\n",
              "      <th>57062</th>\n",
              "      <td>unas trescientos personas protestan visita rey...</td>\n",
              "      <td>mossos desquadra blindado alrededores estacion...</td>\n",
              "      <td>1</td>\n",
              "    </tr>\n",
              "  </tbody>\n",
              "</table>\n",
              "<p>56598 rows × 3 columns</p>\n",
              "</div>"
            ],
            "text/plain": [
              "                                                  Titulo  \\\n",
              "0      the guardian va sanchez europa necesita apuest...   \n",
              "1      revelan gobierno negocio liberación mireles ca...   \n",
              "2      ahora nunca joan fust estatuto valenciano cump...   \n",
              "3      iglesias alienta yolanda diaz erc eh bildu neg...   \n",
              "4      puigdemont seria ninguna tragedia repeticion e...   \n",
              "...                                                  ...   \n",
              "57058  defensor pueblo reclama comunidad madrid datos...   \n",
              "57059  equo plantea ced presidencia comunidad madrid ...   \n",
              "57060  alberto garzon borbones ladrones hecho histori...   \n",
              "57061  vox exige entr gobierno castilla leon cara vic...   \n",
              "57062  unas trescientos personas protestan visita rey...   \n",
              "\n",
              "                                             Descripcion  Label  \n",
              "0      diario britanico publico pasado jueves editori...      1  \n",
              "1      revelan gobierno negocio liberación mireles ca...      0  \n",
              "2      valencianismo convoca castello fiesta grande c...      1  \n",
              "3      politica igua negoci empresarios negoci grupos...      1  \n",
              "4      entrevista punt avui lid jxcat desdramatizado ...      0  \n",
              "...                                                  ...    ...  \n",
              "57058  gobierno regiona indicado atencion dia incluye...      1  \n",
              "57059  si higiene democratica lleva exigencia ten pas...      0  \n",
              "57060  coordinador federa iu asegura monarquia putref...      1  \n",
              "57061  santiago abascal vox derecho deb form gobierno...      1  \n",
              "57062  mossos desquadra blindado alrededores estacion...      1  \n",
              "\n",
              "[56598 rows x 3 columns]"
            ]
          },
          "execution_count": 120,
          "metadata": {},
          "output_type": "execute_result"
        }
      ],
      "source": [
        "trainData"
      ]
    },
    {
      "cell_type": "markdown",
      "metadata": {
        "id": "hasVxSyutYcA"
      },
      "source": [
        "¡De esta forma se terminan viendo los datos con los que vamos a entrenar el modelo!"
      ]
    },
    {
      "cell_type": "markdown",
      "metadata": {
        "id": "DI-2y08hzdUt"
      },
      "source": [
        "Funciones útiles"
      ]
    },
    {
      "cell_type": "markdown",
      "metadata": {
        "id": "HvnJceRmKu_B"
      },
      "source": [
        "## Función para evaluar los modelos\n",
        "\n",
        "* Vamos a priorizar el recall"
      ]
    },
    {
      "cell_type": "code",
      "execution_count": 121,
      "metadata": {
        "id": "fr-CAYWmIDT9"
      },
      "outputs": [],
      "source": [
        "from sklearn.metrics import accuracy_score, classification_report, f1_score, confusion_matrix, ConfusionMatrixDisplay, recall_score\n",
        "import matplotlib.pyplot as plt\n",
        "from sklearn.metrics import RocCurveDisplay\n",
        "\n",
        "def evaluate_model(y_test, y_pred, labels, model_name):\n",
        "    \"\"\"\n",
        "    Evalúa el rendimiento de un modelo de clasificación.\n",
        "\n",
        "    Parámetros:\n",
        "    - y_test: Valores reales de la clasificación.\n",
        "    - y_pred: Predicciones del modelo.\n",
        "    - model_name: Nombre del modelo para impresión (opcional).\n",
        "    \"\"\"\n",
        "    print(f\"\\nEvaluación del modelo: {model_name}\")\n",
        "    print(\"Accuracy:\", accuracy_score(y_test, y_pred))\n",
        "    print(\"Recall:\", recall_score(y_test,y_pred) ) # ESTA SERA LA METRICA PRINCIPAL\n",
        "    print(\"Classification Report:\\n\", classification_report(y_test, y_pred))\n",
        "\n",
        "    # Calcular F1 Score\n",
        "    f1_weighted = f1_score(y_test, y_pred, average='weighted')\n",
        "    f1_macro = f1_score(y_test, y_pred, average='macro')\n",
        "\n",
        "    print(f\"F1 Weighted Score: {f1_weighted}\")\n",
        "    print(f\"F1 Macro Score: {f1_macro}\")\n",
        "\n",
        "    # Mostrar la matriz de confusión\n",
        "    disp = ConfusionMatrixDisplay(confusion_matrix=confusion_matrix(y_test, y_pred),\n",
        "                                  display_labels=labels)\n",
        "    disp.plot(cmap=plt.cm.Blues)\n",
        "    plt.show()\n",
        "\n",
        "    #RocCurveDisplay.from_estimator(model, x_test_MNB, y_test_MNB)\n"
      ]
    },
    {
      "cell_type": "markdown",
      "metadata": {
        "id": "0JOdQ58ZOCvz"
      },
      "source": [
        "# Training"
      ]
    },
    {
      "cell_type": "code",
      "execution_count": 122,
      "metadata": {
        "id": "Ucedc9Qy9o_G"
      },
      "outputs": [],
      "source": [
        "from sklearn.compose import ColumnTransformer\n",
        "\n",
        "text_transformer_basic = ColumnTransformer(\n",
        "    transformers=[\n",
        "        (\"Titulo_tfidf\", TfidfVectorizer(), \"Titulo\"),\n",
        "        (\"desc_tfidf\", TfidfVectorizer(), \"Descripcion\")\n",
        "    ]\n",
        ")"
      ]
    },
    {
      "cell_type": "code",
      "execution_count": 123,
      "metadata": {},
      "outputs": [],
      "source": [
        "from sklearn.metrics import classification_report\n",
        "import pandas as pd\n",
        "import seaborn as sns\n",
        "from sklearn.metrics import roc_curve, roc_auc_score\n",
        "\n",
        "\n",
        "def plot_roc_curve(y_test, y_pred_proba):\n",
        "    fpr, tpr, _ = roc_curve(y_test, y_pred_proba)\n",
        "\n",
        "    plt.figure(figsize=(6, 5))\n",
        "    plt.plot(fpr, tpr, color='darkorange', lw=2)\n",
        "    plt.plot([0, 1], [0, 1], color='navy', lw=2, linestyle='--')\n",
        "    plt.xlabel('False Positive Rate')\n",
        "    plt.ylabel('True Positive Rate')\n",
        "    plt.title('ROC Curve')\n",
        "    plt.show()\n",
        "\n",
        "def plot_confusion_matrix(y_test, y_pred):\n",
        "    labels = sorted(set(y_test))  # Ensure labels are sorted and unique\n",
        "    cm = confusion_matrix(y_test, y_pred, labels=labels)\n",
        "\n",
        "    plt.figure(figsize=(6, 5))\n",
        "    sns.heatmap(cm, annot=True, fmt='d', cmap='Blues',\n",
        "                xticklabels=labels, yticklabels=labels)\n",
        "\n",
        "    plt.xlabel('Predicted Label')\n",
        "    plt.ylabel('True Label')\n",
        "    plt.title('Confusion Matrix Heatmap')\n",
        "    plt.show()\n",
        "\n",
        "\n",
        "def evaluate_pipeline(pipeline, X_test, y_test, title:str):\n",
        "    y_pred = pipeline.predict(X_test)\n",
        "    results = classification_report(y_test, y_pred, output_dict=True)\n",
        "    df_results = pd.DataFrame(results).T\n",
        "\n",
        "    print(f\"\\n==================== EVALUACIÓN DEL {title.upper()} ====================\")\n",
        "    print(\"Métricas clave del desempeño del modelo:\")\n",
        "    print(\"--------------------------------------------------------------\")\n",
        "    print(df_results[['precision', 'recall', 'f1-score']].round(4))\n",
        "    print(\"--------------------------------------------------------------\")\n",
        "    print(f\"Accuracy: {results['accuracy']:.4f}\")\n",
        "    print(\"==============================================================\\n\")"
      ]
    },
    {
      "cell_type": "code",
      "execution_count": 124,
      "metadata": {
        "id": "Kr0nRw4y5H45"
      },
      "outputs": [],
      "source": [
        "from sklearn.model_selection import GridSearchCV, cross_val_score\n",
        "import pandas as pd\n",
        "from sklearn.metrics import f1_score\n",
        "from sklearn.ensemble import RandomForestClassifier\n",
        "from xgboost import XGBClassifier\n",
        "from sklearn.feature_extraction.text import TfidfVectorizer\n",
        "from sklearn.pipeline import make_pipeline\n",
        "from sklearn.naive_bayes import MultinomialNB\n",
        "\n",
        "def all_models(dataframe, text_transformer, parameters={} ,cross_validation=True):\n",
        "    X = dataframe[['Titulo', 'Descripcion']]\n",
        "    y = dataframe['Label']\n",
        "\n",
        "    # Apply TfidfVectorizer separately to 'Titulo' and 'Descripcion'\n",
        "    X_train, X_test, y_train, y_test = train_test_split(\n",
        "        X, y, test_size=0.3, random_state=42)\n",
        "    if 'min_samples_split' in parameters:\n",
        "        model = RandomForestClassifier(n_estimators=parameters['n_estimators'], max_depth=parameters['max_depth'], min_samples_split=parameters['min_samples_split'])\n",
        "    elif len(parameters) <1:\n",
        "        model = MultinomialNB()\n",
        "    else:\n",
        "        model = XGBClassifier(eval_metric='logloss', n_estimators=parameters['n_estimators'], max_depth=parameters['max_depth'], learning_rate=parameters['learning_rate'])\n",
        "\n",
        "    pipeline = Pipeline([\n",
        "        (\"vectorizer\", text_transformer),\n",
        "        (\"classifier\", model)\n",
        "    ])\n",
        "\n",
        "    pipeline.fit(X_train, y_train)\n",
        "\n",
        "    if cross_validation:\n",
        "        cv_scores = cross_val_score(\n",
        "            pipeline, X, y, cv=5, scoring='f1_macro', n_jobs=-1)\n",
        "        print(f\"F1-score promedio en validación cruzada: {cv_scores.mean():.4f} (+/- {cv_scores.std():.4f})\")\n",
        "        results = classification_report(y_test, pipeline.predict(X_test), output_dict=True)\n",
        "    else:\n",
        "        y_pred = pipeline.predict(X_test)\n",
        "\n",
        "        results = classification_report(y_test, y_pred, output_dict=True)\n",
        "        print(f\"\\nModelo: XGBoost\")\n",
        "        print(\"Clasificación detallada:\")\n",
        "        print(pd.DataFrame(results).T)\n",
        "    return results, pipeline"
      ]
    },
    {
      "cell_type": "markdown",
      "metadata": {},
      "source": [
        "# Algoritmo Karen"
      ]
    },
    {
      "cell_type": "markdown",
      "metadata": {},
      "source": [
        "XGBoost es un algoritmo de gradient boosting optimizado, rápido y regularizado, ideal para clasificación y regresión. Se entrena secuencialmente con árboles de decisión, corrigiendo errores en cada iteración.\n",
        "\n",
        "En este caso de noticias falsas, es útil porque se trabaja con datos tabulares derivados de texto (TF-IDF, Bag of Words o embeddings). Destaca por su rapidez, interpretabilidad y buen rendimiento en tareas como análisis de sentimientos o detección de spam, sin necesidad de grandes volúmenes de datos. Aunque no es ideal para tareas complejas como traducción, es una alternativa eficiente para clasificación de texto."
      ]
    },
    {
      "cell_type": "code",
      "execution_count": 125,
      "metadata": {
        "colab": {
          "base_uri": "https://localhost:8080/"
        },
        "id": "lNhJtq-I9Fxt",
        "outputId": "29fd80da-da6a-4352-e9bd-adfd67cd1c64"
      },
      "outputs": [
        {
          "name": "stdout",
          "output_type": "stream",
          "text": [
            "F1-score promedio en validación cruzada: 0.9184 (+/- 0.0025)\n"
          ]
        }
      ],
      "source": [
        "karen_modelo = all_models(trainData, text_transformer_basic, {\n",
        "                          'n_estimators': 200, 'max_depth': 7, 'learning_rate': 0.2})"
      ]
    },
    {
      "cell_type": "code",
      "execution_count": 126,
      "metadata": {},
      "outputs": [
        {
          "data": {
            "image/png": "[encoded data removed]",
            "text/plain": [
              "<Figure size 600x500 with 2 Axes>"
            ]
          },
          "metadata": {},
          "output_type": "display_data"
        },
        {
          "data": {
            "image/png": "[encoded data removed]",
            "text/plain": [
              "<Figure size 600x500 with 1 Axes>"
            ]
          },
          "metadata": {},
          "output_type": "display_data"
        },
        {
          "name": "stdout",
          "output_type": "stream",
          "text": [
            "\n",
            "==================== EVALUACIÓN DEL MODELO DE KAREN ====================\n",
            "Métricas clave del desempeño del modelo:\n",
            "--------------------------------------------------------------\n",
            "              precision  recall  f1-score\n",
            "0                0.9865  0.8507    0.9136\n",
            "1                0.9011  0.9915    0.9442\n",
            "accuracy         0.9322  0.9322    0.9322\n",
            "macro avg        0.9438  0.9211    0.9289\n",
            "weighted avg     0.9371  0.9322    0.9313\n",
            "--------------------------------------------------------------\n",
            "Accuracy: 0.9322\n",
            "==============================================================\n",
            "\n"
          ]
        }
      ],
      "source": [
        "X_test = trainData[['Titulo', 'Descripcion']]  # Ensure it's a DataFrame\n",
        "y_pred = karen_modelo[1].predict(X_test)\n",
        "plot_confusion_matrix(trainData['Label'], y_pred)\n",
        "X_test = trainData[['Titulo', 'Descripcion']]  # Ensure it's a DataFrame\n",
        "y_pred_proba = karen_modelo[1].predict_proba(X_test)[:, 1]\n",
        "plot_roc_curve(trainData['Label'], y_pred_proba)\n",
        "evaluate_pipeline(karen_modelo[1], X_test, trainData['Label'], title = 'Modelo de Karen')"
      ]
    },
    {
      "cell_type": "markdown",
      "metadata": {},
      "source": [
        "# Algoritmo Marco"
      ]
    },
    {
      "cell_type": "code",
      "execution_count": 127,
      "metadata": {
        "colab": {
          "base_uri": "https://localhost:8080/"
        },
        "id": "jLp1CZFG-NGf",
        "outputId": "dd9b5f9a-9434-4ebb-f273-2fc2a7c0a3e4"
      },
      "outputs": [
        {
          "name": "stdout",
          "output_type": "stream",
          "text": [
            "F1-score promedio en validación cruzada: 0.9080 (+/- 0.0037)\n"
          ]
        }
      ],
      "source": [
        "marco_modelo = all_models(trainData, text_transformer_basic, {'max_depth': None, 'min_samples_split': 10, 'n_estimators': 300})"
      ]
    },
    {
      "cell_type": "code",
      "execution_count": 128,
      "metadata": {},
      "outputs": [
        {
          "data": {
            "image/png": "[encoded data removed]",
            "text/plain": [
              "<Figure size 600x500 with 2 Axes>"
            ]
          },
          "metadata": {},
          "output_type": "display_data"
        },
        {
          "data": {
            "image/png": "[encoded data removed]",
            "text/plain": [
              "<Figure size 600x500 with 1 Axes>"
            ]
          },
          "metadata": {},
          "output_type": "display_data"
        },
        {
          "name": "stdout",
          "output_type": "stream",
          "text": [
            "\n",
            "==================== EVALUACIÓN DEL MODELO DE MARCO ====================\n",
            "Métricas clave del desempeño del modelo:\n",
            "--------------------------------------------------------------\n",
            "              precision  recall  f1-score\n",
            "0                0.9806  0.9534    0.9668\n",
            "1                0.9667  0.9863    0.9764\n",
            "accuracy         0.9724  0.9724    0.9724\n",
            "macro avg        0.9737  0.9698    0.9716\n",
            "weighted avg     0.9726  0.9724    0.9724\n",
            "--------------------------------------------------------------\n",
            "Accuracy: 0.9724\n",
            "==============================================================\n",
            "\n"
          ]
        }
      ],
      "source": [
        "X_test = trainData[['Titulo', 'Descripcion']]  # Ensure it's a DataFrame\n",
        "y_pred = marco_modelo[1].predict(X_test)\n",
        "plot_confusion_matrix(trainData['Label'], y_pred)\n",
        "X_test = trainData[['Titulo', 'Descripcion']]  # Ensure it's a DataFrame\n",
        "y_pred_proba = marco_modelo[1].predict_proba(X_test)[:, 1]\n",
        "plot_roc_curve(trainData['Label'], y_pred_proba)\n",
        "evaluate_pipeline(marco_modelo[1], X_test,\n",
        "                  trainData['Label'], title='Modelo de Marco')"
      ]
    },
    {
      "cell_type": "markdown",
      "metadata": {
        "id": "eNAQ5Vld4Em_"
      },
      "source": [
        "# Algoritmo jen"
      ]
    },
    {
      "cell_type": "markdown",
      "metadata": {
        "id": "6Esh3aX-_WUA"
      },
      "source": [
        "El algoritmo que seleccioné fue Naive Bayes. Este algoritmo es un clasificador probabilistico. Parte del teorema de Bayes de probabilidad combinado con una parte **naive** (ingenua) que tiene como supuesto independencia dentro de las características del texto. Es usado en casos como detección de spam en correos y es útil para predecir el tag de un texto.\n",
        "\n",
        "Fuentes:\n",
        "\n",
        "https://www.ibm.com/es-es/think/topics/naive-bayes\n",
        "\n",
        "https://web.stanford.edu/~jurafsky/slp3/4.pdf"
      ]
    },
    {
      "cell_type": "markdown",
      "metadata": {
        "id": "AIAG76JlCLrX"
      },
      "source": [
        "Voy a comenzar por importar las librerías necesarias y hacer una vectorización por TF-IDF"
      ]
    },
    {
      "cell_type": "code",
      "execution_count": 129,
      "metadata": {
        "colab": {
          "base_uri": "https://localhost:8080/",
          "height": 211
        },
        "id": "0QXztZOkEkZi",
        "outputId": "b5c378be-52e3-4dfd-b02e-6d42dc331d24"
      },
      "outputs": [
        {
          "name": "stdout",
          "output_type": "stream",
          "text": [
            "F1-score promedio en validación cruzada: 0.8026 (+/- 0.0033)\n"
          ]
        }
      ],
      "source": [
        "jen_modelo = all_models(trainData, text_transformer_basic)"
      ]
    },
    {
      "cell_type": "code",
      "execution_count": 130,
      "metadata": {},
      "outputs": [
        {
          "data": {
            "image/png": "[encoded data removed]",
            "text/plain": [
              "<Figure size 600x500 with 2 Axes>"
            ]
          },
          "metadata": {},
          "output_type": "display_data"
        },
        {
          "data": {
            "image/png": "[encoded data removed]",
            "text/plain": [
              "<Figure size 600x500 with 1 Axes>"
            ]
          },
          "metadata": {},
          "output_type": "display_data"
        },
        {
          "name": "stdout",
          "output_type": "stream",
          "text": [
            "\n",
            "==================== EVALUACIÓN DEL MODELO DE JENIFER ====================\n",
            "Métricas clave del desempeño del modelo:\n",
            "--------------------------------------------------------------\n",
            "              precision  recall  f1-score\n",
            "0                0.9420  0.7528    0.8368\n",
            "1                0.8428  0.9662    0.9003\n",
            "accuracy         0.8763  0.8763    0.8763\n",
            "macro avg        0.8924  0.8595    0.8686\n",
            "weighted avg     0.8846  0.8763    0.8736\n",
            "--------------------------------------------------------------\n",
            "Accuracy: 0.8763\n",
            "==============================================================\n",
            "\n"
          ]
        }
      ],
      "source": [
        "X_test = trainData[['Titulo', 'Descripcion']]  # Ensure it's a DataFrame\n",
        "y_pred = jen_modelo[1].predict(X_test)\n",
        "plot_confusion_matrix(trainData['Label'], y_pred)\n",
        "X_test = trainData[['Titulo', 'Descripcion']]  # Ensure it's a DataFrame\n",
        "y_pred_proba = jen_modelo[1].predict_proba(X_test)[:, 1]\n",
        "plot_roc_curve(trainData['Label'], y_pred_proba)\n",
        "evaluate_pipeline(jen_modelo[1], X_test,\n",
        "                  trainData['Label'], title='Modelo de Jenifer')"
      ]
    },
    {
      "cell_type": "markdown",
      "metadata": {},
      "source": [
        "# 4.2. Estrategia"
      ]
    },
    {
      "cell_type": "code",
      "execution_count": 133,
      "metadata": {},
      "outputs": [],
      "source": [
        "def get_important_words_from_pipeline(pipeline, top_n=20):\n",
        "    # Extraer el vectorizador y el modelo del pipeline\n",
        "    vectorizer = pipeline.named_steps['vectorizer']\n",
        "    model = pipeline.named_steps['classifier']\n",
        "\n",
        "    # Obtener las palabras (features) y las importancias\n",
        "    feature_names = np.array(vectorizer.get_feature_names_out())\n",
        "\n",
        "    # Verificar si el modelo tiene el atributo feature_importances_\n",
        "    if hasattr(model, \"feature_importances_\"):\n",
        "        importances = model.feature_importances_\n",
        "    else:\n",
        "        raise ValueError(\n",
        "            \"El modelo no tiene el atributo 'feature_importances_'.\")\n",
        "\n",
        "    # Ordenar las palabras por importancia (descendente)\n",
        "    indices = np.argsort(importances)[::-1]\n",
        "\n",
        "    # Seleccionar las N palabras más importantes\n",
        "    top_words = feature_names[indices][:top_n]\n",
        "    top_importances = importances[indices][:top_n]\n",
        "\n",
        "    print(f\"\\nTop {top_n} palabras más importantes para {type(model).__name__}:\")\n",
        "    for word, importance in zip(top_words, top_importances):\n",
        "        print(f\"{word}: {importance:.4f}\")"
      ]
    },
    {
      "cell_type": "code",
      "execution_count": 134,
      "metadata": {},
      "outputs": [
        {
          "name": "stdout",
          "output_type": "stream",
          "text": [
            "\n",
            "Top 20 palabras más importantes para RandomForestClassifier:\n",
            "desc_tfidf__equo: 0.0238\n",
            "Titulo_tfidf__equo: 0.0234\n",
            "desc_tfidf__vers: 0.0187\n",
            "Titulo_tfidf__vers: 0.0174\n",
            "Titulo_tfidf__eajpnv: 0.0163\n",
            "Titulo_tfidf__cristina: 0.0159\n",
            "Titulo_tfidf__bng: 0.0155\n",
            "desc_tfidf__bng: 0.0144\n",
            "desc_tfidf__eajpnv: 0.0137\n",
            "Titulo_tfidf__narbona: 0.0135\n",
            "desc_tfidf__iniciativa: 0.0127\n",
            "Titulo_tfidf__iniciativa: 0.0125\n",
            "Titulo_tfidf__sanchez: 0.0089\n",
            "Titulo_tfidf__canaria: 0.0088\n",
            "desc_tfidf__podemos: 0.0080\n",
            "desc_tfidf__catalunya: 0.0079\n",
            "Titulo_tfidf__catalunya: 0.0077\n",
            "Titulo_tfidf__maestre: 0.0075\n",
            "Titulo_tfidf__podemos: 0.0072\n",
            "Titulo_tfidf__canarias: 0.0071\n"
          ]
        }
      ],
      "source": [
        "get_important_words_from_pipeline(marco_modelo[1])"
      ]
    },
    {
      "cell_type": "code",
      "execution_count": 135,
      "metadata": {},
      "outputs": [],
      "source": [
        "testData = getTestData()\n",
        "nice_test_data = transfor_data(testData)"
      ]
    },
    {
      "cell_type": "code",
      "execution_count": 138,
      "metadata": {},
      "outputs": [],
      "source": [
        "X_test = nice_test_data[['Titulo', 'Descripcion']]\n",
        "y_pred = marco_modelo[1].predict(X_test)\n",
        "y_pred_proba = marco_modelo[1].predict_proba(X_test)[:, 1]\n",
        "\n",
        "testData['Label'] = y_pred\n",
        "testData['Probabilidad'] = y_pred_proba\n",
        "testData['Probabilidad'] = testData['Probabilidad'].apply(lambda x: round(x, 4))\n",
        "\n",
        "testData.to_csv(f'particion_prueba_estudiantes.csv', sep=';', index=False)"
      ]
    },
    {
      "cell_type": "markdown",
      "metadata": {},
      "source": []
    }
  ],
  "metadata": {
    "colab": {
      "provenance": [],
      "toc_visible": true
    },
    "kernelspec": {
      "display_name": "base",
      "language": "python",
      "name": "python3"
    },
    "language_info": {
      "codemirror_mode": {
        "name": "ipython",
        "version": 3
      },
      "file_extension": ".py",
      "mimetype": "text/x-python",
      "name": "python",
      "nbconvert_exporter": "python",
      "pygments_lexer": "ipython3",
      "version": "3.13.1"
    }
  },
  "nbformat": 4,
  "nbformat_minor": 0
}
